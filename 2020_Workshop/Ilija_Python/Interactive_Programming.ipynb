{
 "cells": [
  {
   "cell_type": "markdown",
   "metadata": {},
   "source": [
    "# How to more easily examine data?"
   ]
  },
  {
   "cell_type": "markdown",
   "metadata": {},
   "source": [
    "A nice way to quickly look at your data in Python is to use Glue (https://glueviz.org). Below we will show how you can add multiple catalogs into Glue"
   ]
  },
  {
   "cell_type": "code",
   "execution_count": 2,
   "metadata": {},
   "outputs": [
    {
     "name": "stderr",
     "output_type": "stream",
     "text": [
      "/Users/imedan/anaconda3/lib/python3.6/site-packages/glue_vispy_viewers/extern/vispy/visuals/line/line.py:397: FutureWarning: Passing (type, 1) or '1type' as a synonym of type is deprecated; in a future version of numpy, it will be understood as (type, (1,)) / '(1,)type'.\n",
      "  ('color', np.float32, 4)])\n",
      "/Users/imedan/anaconda3/lib/python3.6/site-packages/glue_vispy_viewers/extern/vispy/visuals/line/arrow.py:55: FutureWarning: Passing (type, 1) or '1type' as a synonym of type is deprecated; in a future version of numpy, it will be understood as (type, (1,)) / '(1,)type'.\n",
      "  ('linewidth', np.float32, 1)\n",
      "/Users/imedan/anaconda3/lib/python3.6/site-packages/ginga/cmap.py:13317: MatplotlibDeprecationWarning: The global colormaps dictionary is no longer considered public API.\n",
      "  for name in _cm.cmap_d:\n"
     ]
    },
    {
     "data": {
      "text/plain": [
       "<glue.app.qt.application.GlueApplication at 0x11b3c3288>"
      ]
     },
     "execution_count": 2,
     "metadata": {},
     "output_type": "execute_result"
    }
   ],
   "source": [
    "from glue import qglue\n",
    "from astropy.io import ascii\n",
    "import numpy as np\n",
    "\n",
    "#load the table, for those who couldnt run the Gaia query above\n",
    "gaia_2mass=ascii.read('gaia_2mass.csv', format='csv')\n",
    "\n",
    "#add a few columns to the table\n",
    "gaia_2mass['BP-RP']=gaia_2mass['phot_bp_mean_mag']-gaia_2mass['phot_rp_mean_mag']\n",
    "gaia_2mass['M_G']=gaia_2mass['phot_g_mean_mag']+5*np.log10(1e-3*gaia_2mass['parallax'])+5\n",
    "gaia_2mass['J-K']=gaia_2mass['j_m']-gaia_2mass['ks_m']\n",
    "gaia_2mass['M_K']=gaia_2mass['ks_m']+5*np.log10(1e-3*gaia_2mass['parallax'])+5\n",
    "\n",
    "#open glue\n",
    "qglue(gaia_2mass=gaia_2mass)"
   ]
  },
  {
   "cell_type": "code",
   "execution_count": null,
   "metadata": {},
   "outputs": [],
   "source": []
  }
 ],
 "metadata": {
  "kernelspec": {
   "display_name": "Python 3",
   "language": "python",
   "name": "python3"
  },
  "language_info": {
   "codemirror_mode": {
    "name": "ipython",
    "version": 3
   },
   "file_extension": ".py",
   "mimetype": "text/x-python",
   "name": "python",
   "nbconvert_exporter": "python",
   "pygments_lexer": "ipython3",
   "version": "3.6.10"
  }
 },
 "nbformat": 4,
 "nbformat_minor": 2
}
