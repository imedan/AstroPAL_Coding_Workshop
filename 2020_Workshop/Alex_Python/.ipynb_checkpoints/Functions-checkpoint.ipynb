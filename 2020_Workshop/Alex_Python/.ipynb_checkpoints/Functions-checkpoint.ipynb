{
 "cells": [
  {
   "cell_type": "code",
   "execution_count": 3,
   "metadata": {},
   "outputs": [],
   "source": [
    "import numpy as np #I always import the same stuff and set up the same directories. This is always my first code-box.\n",
    "\n",
    "ddir='' #your data directory, like '/Users/ayep/research/data'; starting with \"/Users\" makes code easily portable to other computers :)\n",
    "pdir='' #your plot directory, like '/Users/ayep/research/plot'"
   ]
  },
  {
   "cell_type": "markdown",
   "metadata": {},
   "source": [
    "## Useful Everyday Functions"
   ]
  },
  {
   "cell_type": "markdown",
   "metadata": {},
   "source": [
    "If there are codes you use every day...make a funciton! For example, I open files, write files, and take error-weighted means all, the, time. I also make LaTeX deluxe tables all the time that continually have to be updated with new data. That's a pain to do by hand..........so I have functions! See Textify and LaTeX_Tableizer."
   ]
  },
  {
   "cell_type": "code",
   "execution_count": 4,
   "metadata": {},
   "outputs": [],
   "source": [
    "#open data files line-by-line but split up by tab ('\\t')\n",
    "def opendat(dir,filename): #dir,'filename'. For opening a data file. Can then send through roundtable.\n",
    "    f=open(dir+filename,'r')\n",
    "    dat=f.readlines()\n",
    "    f.close()\n",
    "    labels=dat[0][0:-1].split()\n",
    "    dat2=[[a.strip('\\n') for a in d.split('\\t')] for d in dat if d[0]!='#']\n",
    "    dat3=[['nan' if a.strip()=='' else a for a in d] for d in dat2]\n",
    "    return [dat3,labels]\n",
    "\n",
    "#open data files into well-named variables:\n",
    "def opendat2(dirr,filename,params): #Use as var,var,var...=opendat2(dir,'filename',['keys']).\n",
    "    dat,label=opendat(dirr,filename)  #Get keys by first leaving ['keys'] blank: opendat2(dirr,filename,[])\n",
    "    print(label)\n",
    "    varrs=[]\n",
    "    for i in range(len(params)):\n",
    "        j=label.index(params[i])\n",
    "        try:\n",
    "            var=np.array([float(d[j]) for d in dat]) #works for float.\n",
    "            varrs.append(var)\n",
    "        except ValueError:\n",
    "            var=[d[j].strip() for d in dat] #works for strings.\n",
    "            varrs.append(var)\n",
    "    return varrs\n",
    "\n",
    "#write new data files\n",
    "def writedat(dirr,filename,pars,label): #.dat auto included. pars as [name,ra,dec] etc.\n",
    "    datp=[[str(a[i]) for a in pars] for i in range(len(pars[0]))]\n",
    "    f=open(dirr+filename+'.dat','w')\n",
    "    print('\\t'.join(label),file=f)\n",
    "    print(label)\n",
    "    for d in datp:\n",
    "        print('\\t'.join(d),file=f)\n",
    "    f.close()\n",
    "    print('It is written: '+filename+'.dat')"
   ]
  },
  {
   "cell_type": "markdown",
   "metadata": {},
   "source": [
    "## Demo"
   ]
  },
  {
   "cell_type": "code",
   "execution_count": 7,
   "metadata": {},
   "outputs": [
    {
     "name": "stdout",
     "output_type": "stream",
     "text": [
      "['#name', 'vr', 'vrerr', 'pra', 'praerr', 'pdec', 'pdecerr']\n"
     ]
    },
    {
     "data": {
      "text/plain": [
       "[]"
      ]
     },
     "execution_count": 7,
     "metadata": {},
     "output_type": "execute_result"
    }
   ],
   "source": [
    "#I can start with blank to auto-print my keys.\n",
    "opendat2(ddir,'SampleData_Kinematics.dat',[])"
   ]
  },
  {
   "cell_type": "code",
   "execution_count": 12,
   "metadata": {},
   "outputs": [
    {
     "name": "stdout",
     "output_type": "stream",
     "text": [
      "['#name', 'vr', 'vrerr', 'pra', 'praerr', 'pdec', 'pdecerr']\n",
      "11.57966364904619\n"
     ]
    }
   ],
   "source": [
    "# I want my proper motions in right ascension and declination, let's say,\n",
    "# and I want to call them pra and pdec.\n",
    "\n",
    "pra,pdec=opendat2(ddir,'SampleData_Kinematics.dat',['pra','pdec'])\n",
    "\n",
    "# Now I can do all further operations on variables that are called what they are!\n",
    "# For example, average magnitude of 2-D sky motion is this:\n",
    "\n",
    "p2D = np.nanmean(np.sqrt(pra**2. + pdec**2.))\n",
    "\n",
    "print(p2D)\n",
    "\n",
    "# Isn't that sooo much easier, getting to do operations on pra and pdec instead of something\n",
    "# like data['propermotionRA']**2. + data['propermotionDEC']**2. etc. etc.? :)"
   ]
  },
  {
   "cell_type": "code",
   "execution_count": null,
   "metadata": {},
   "outputs": [],
   "source": []
  }
 ],
 "metadata": {
  "kernelspec": {
   "display_name": "Python 3",
   "language": "python",
   "name": "python3"
  },
  "language_info": {
   "codemirror_mode": {
    "name": "ipython",
    "version": 3
   },
   "file_extension": ".py",
   "mimetype": "text/x-python",
   "name": "python",
   "nbconvert_exporter": "python",
   "pygments_lexer": "ipython3",
   "version": "3.7.4"
  }
 },
 "nbformat": 4,
 "nbformat_minor": 2
}
