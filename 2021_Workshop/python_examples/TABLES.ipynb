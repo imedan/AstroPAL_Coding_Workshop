{
 "cells": [
  {
   "cell_type": "markdown",
   "id": "5839e5d7",
   "metadata": {},
   "source": [
    "# Useful Functions for Tables"
   ]
  },
  {
   "cell_type": "markdown",
   "id": "dafa1d54",
   "metadata": {},
   "source": [
    "One thing that many people can sink a lot of time into is not necessarily doing data analysis, but actually creating tables to present your results in a publication! Luckily, there are quite a few python functions to make this process a bit easier. "
   ]
  },
  {
   "cell_type": "markdown",
   "id": "51472a36",
   "metadata": {},
   "source": [
    "## Latex Tables"
   ]
  },
  {
   "cell_type": "markdown",
   "id": "fa39572b",
   "metadata": {},
   "source": [
    "One super useful feature is Astropy provides the ability to write a table as a latex table! Lets say we have a table of data, like the one shown below:"
   ]
  },
  {
   "cell_type": "code",
   "execution_count": 1,
   "id": "76a72bd1",
   "metadata": {},
   "outputs": [
    {
     "data": {
      "text/html": [
       "<i>Table length=10</i>\n",
       "<table id=\"table4362393024-453346\" class=\"table-striped table-bordered table-condensed\">\n",
       "<thead><tr><th>idx</th><th>GAIA_ID</th><th>G</th><th>RA_GAIA</th><th>DE_GAIA</th><th>2MASS_ID</th><th>J_2MASS</th><th>Jerr_2MASS</th><th>H_2MASS</th><th>Herr_2MASS</th><th>K_2MASS</th><th>Kerr_2MASS</th><th>RA_2MASS</th><th>DE_2MASS</th><th>bayes_2MASS</th><th>angsep_2MASS</th></tr></thead>\n",
       "<tr><td>0</td><td>429379051804727296</td><td>16.9667</td><td>0.00021864741</td><td>60.89771179398</td><td>00000009+6053531</td><td>13.876</td><td>0.024</td><td>13.308</td><td>0.032</td><td>13.055</td><td>0.026</td><td>0.00039</td><td>60.898087</td><td>0.9993495</td><td>0.1131188</td></tr>\n",
       "<tr><td>1</td><td>429379051804727296</td><td>16.9667</td><td>0.00021864741</td><td>60.89771179398</td><td>00000116+6054047</td><td>16.228</td><td>0.1</td><td>15.771</td><td>0.156</td><td>15.436</td><td>0.195</td><td>0.004842</td><td>60.901306</td><td>0.0</td><td>13.893606</td></tr>\n",
       "<tr><td>2</td><td>384318827606840448</td><td>17.9638</td><td>0.00047931984</td><td>42.19465632646</td><td>00000004+4211408</td><td>14.897</td><td>0.038</td><td>14.253</td><td>0.045</td><td>13.992</td><td>0.051</td><td>0.000202</td><td>42.194679</td><td>0.9998343</td><td>0.0210179</td></tr>\n",
       "<tr><td>3</td><td>2772104109112208256</td><td>18.4284</td><td>0.00051294158</td><td>15.565175017629997</td><td>00000015+1533550</td><td>15.539</td><td>0.061</td><td>15.081</td><td>0.093</td><td>14.763</td><td>0.097</td><td>0.00065</td><td>15.565296</td><td>0.999958</td><td>0.1038959</td></tr>\n",
       "<tr><td>4</td><td>4922439138656081024</td><td>16.1428</td><td>0.00054775339</td><td>-57.26154422458</td><td>00000021-5715408</td><td>13.517</td><td>0.025</td><td>12.957</td><td>0.028</td><td>12.713</td><td>0.029</td><td>0.000914</td><td>-57.261356</td><td>0.9999721</td><td>0.2605187</td></tr>\n",
       "<tr><td>5</td><td>2738617902668633344</td><td>16.053</td><td>0.00059265319</td><td>1.41569388809</td><td>00000009+0124562</td><td>14.005</td><td>0.028</td><td>13.378</td><td>0.029</td><td>13.19</td><td>0.034</td><td>0.00041</td><td>1.415625</td><td>0.9999895</td><td>0.0681481</td></tr>\n",
       "<tr><td>6</td><td>422597225421620992</td><td>19.7116</td><td>0.00062329596</td><td>57.67086338256</td><td>00000006+5740156</td><td>16.327</td><td>0.119</td><td>15.766</td><td>0.143</td><td>15.057</td><td>99.0</td><td>0.000289</td><td>57.671021</td><td>0.9888028</td><td>0.2357019</td></tr>\n",
       "<tr><td>7</td><td>2420684907087327104</td><td>16.4742</td><td>0.000644395</td><td>-14.44069806218</td><td>00000012-1426271</td><td>14.273</td><td>0.032</td><td>13.616</td><td>0.033</td><td>13.47</td><td>0.037</td><td>0.000518</td><td>-14.440871</td><td>0.9999867</td><td>0.0757191</td></tr>\n",
       "<tr><td>8</td><td>2305877746911854336</td><td>16.9816</td><td>0.00064631606</td><td>-41.07994573153</td><td>00000010-4104482</td><td>14.338</td><td>0.043</td><td>13.627</td><td>0.038</td><td>13.532</td><td>0.045</td><td>0.000449</td><td>-41.080074</td><td>0.9999833</td><td>0.1291896</td></tr>\n",
       "<tr><td>9</td><td>2305877746911854336</td><td>16.9816</td><td>0.00064631606</td><td>-41.07994573153</td><td>00000046-4104378</td><td>16.126</td><td>0.089</td><td>15.426</td><td>0.111</td><td>15.211</td><td>0.152</td><td>0.00193</td><td>-41.07719</td><td>0.0744052</td><td>11.2620835</td></tr>\n",
       "</table><style>table.dataTable {clear: both; width: auto !important; margin: 0 !important;}\n",
       ".dataTables_info, .dataTables_length, .dataTables_filter, .dataTables_paginate{\n",
       "display: inline-block; margin-right: 1em; }\n",
       ".paginate_button { margin-right: 5px; }\n",
       "</style>\n",
       "<script>\n",
       "\n",
       "var astropy_sort_num = function(a, b) {\n",
       "    var a_num = parseFloat(a);\n",
       "    var b_num = parseFloat(b);\n",
       "\n",
       "    if (isNaN(a_num) && isNaN(b_num))\n",
       "        return ((a < b) ? -1 : ((a > b) ? 1 : 0));\n",
       "    else if (!isNaN(a_num) && !isNaN(b_num))\n",
       "        return ((a_num < b_num) ? -1 : ((a_num > b_num) ? 1 : 0));\n",
       "    else\n",
       "        return isNaN(a_num) ? -1 : 1;\n",
       "}\n",
       "\n",
       "require.config({paths: {\n",
       "    datatables: 'https://cdn.datatables.net/1.10.12/js/jquery.dataTables.min'\n",
       "}});\n",
       "require([\"datatables\"], function(){\n",
       "    console.log(\"$('#table4362393024-453346').dataTable()\");\n",
       "    \n",
       "jQuery.extend( jQuery.fn.dataTableExt.oSort, {\n",
       "    \"optionalnum-asc\": astropy_sort_num,\n",
       "    \"optionalnum-desc\": function (a,b) { return -astropy_sort_num(a, b); }\n",
       "});\n",
       "\n",
       "    $('#table4362393024-453346').dataTable({\n",
       "        order: [],\n",
       "        pageLength: 50,\n",
       "        lengthMenu: [[10, 25, 50, 100, 500, 1000, -1], [10, 25, 50, 100, 500, 1000, 'All']],\n",
       "        pagingType: \"full_numbers\",\n",
       "        columnDefs: [{targets: [0, 1, 2, 3, 4, 6, 7, 8, 9, 10, 11, 12, 13, 14, 15], type: \"optionalnum\"}]\n",
       "    });\n",
       "});\n",
       "</script>\n"
      ],
      "text/plain": [
       "<IPython.core.display.HTML object>"
      ]
     },
     "execution_count": 1,
     "metadata": {},
     "output_type": "execute_result"
    }
   ],
   "source": [
    "from astropy.table import Table\n",
    "\n",
    "file = '2MASS_GAIA_DR2_star_40mas_all_matches_VIZIER_TAB_sample.txt'\n",
    "\n",
    "tab = Table.read(file, format='csv')\n",
    "\n",
    "tab.show_in_notebook()"
   ]
  },
  {
   "cell_type": "markdown",
   "id": "ccedfa3f",
   "metadata": {},
   "source": [
    "When the data is stored in an Astropy table, it becomes very easy to then print the table as a latex table:"
   ]
  },
  {
   "cell_type": "code",
   "execution_count": 2,
   "id": "a9ecddd0",
   "metadata": {},
   "outputs": [
    {
     "name": "stdout",
     "output_type": "stream",
     "text": [
      "\\begin{table}\n",
      "\\begin{tabular}{ccccccccccccccc}\n",
      "GAIA_ID & G & RA_GAIA & DE_GAIA & 2MASS_ID & J_2MASS & Jerr_2MASS & H_2MASS & Herr_2MASS & K_2MASS & Kerr_2MASS & RA_2MASS & DE_2MASS & bayes_2MASS & angsep_2MASS \\\\\n",
      "429379051804727296 & 16.9667 & 0.00021864741 & 60.89771179398 & 00000009+6053531 & 13.876 & 0.024 & 13.308 & 0.032 & 13.055 & 0.026 & 0.00039 & 60.898087 & 0.9993495 & 0.1131188 \\\\\n",
      "429379051804727296 & 16.9667 & 0.00021864741 & 60.89771179398 & 00000116+6054047 & 16.228 & 0.1 & 15.771 & 0.156 & 15.436 & 0.195 & 0.004842 & 60.901306 & 0.0 & 13.893606 \\\\\n",
      "384318827606840448 & 17.9638 & 0.00047931984 & 42.19465632646 & 00000004+4211408 & 14.897 & 0.038 & 14.253 & 0.045 & 13.992 & 0.051 & 0.000202 & 42.194679 & 0.9998343 & 0.0210179 \\\\\n",
      "2772104109112208256 & 18.4284 & 0.00051294158 & 15.565175017629997 & 00000015+1533550 & 15.539 & 0.061 & 15.081 & 0.093 & 14.763 & 0.097 & 0.00065 & 15.565296 & 0.999958 & 0.1038959 \\\\\n",
      "4922439138656081024 & 16.1428 & 0.00054775339 & -57.26154422458 & 00000021-5715408 & 13.517 & 0.025 & 12.957 & 0.028 & 12.713 & 0.029 & 0.000914 & -57.261356 & 0.9999721 & 0.2605187 \\\\\n",
      "2738617902668633344 & 16.053 & 0.00059265319 & 1.41569388809 & 00000009+0124562 & 14.005 & 0.028 & 13.378 & 0.029 & 13.19 & 0.034 & 0.00041 & 1.415625 & 0.9999895 & 0.0681481 \\\\\n",
      "422597225421620992 & 19.7116 & 0.00062329596 & 57.67086338256 & 00000006+5740156 & 16.327 & 0.119 & 15.766 & 0.143 & 15.057 & 99.0 & 0.000289 & 57.671021 & 0.9888028 & 0.2357019 \\\\\n",
      "2420684907087327104 & 16.4742 & 0.000644395 & -14.44069806218 & 00000012-1426271 & 14.273 & 0.032 & 13.616 & 0.033 & 13.47 & 0.037 & 0.000518 & -14.440871 & 0.9999867 & 0.0757191 \\\\\n",
      "2305877746911854336 & 16.9816 & 0.00064631606 & -41.07994573153 & 00000010-4104482 & 14.338 & 0.043 & 13.627 & 0.038 & 13.532 & 0.045 & 0.000449 & -41.080074 & 0.9999833 & 0.1291896 \\\\\n",
      "2305877746911854336 & 16.9816 & 0.00064631606 & -41.07994573153 & 00000046-4104378 & 16.126 & 0.089 & 15.426 & 0.111 & 15.211 & 0.152 & 0.00193 & -41.07719 & 0.0744052 & 11.2620835 \\\\\n",
      "\\end{tabular}\n",
      "\\end{table}\n"
     ]
    }
   ],
   "source": [
    "from astropy.io import ascii\n",
    "\n",
    "ascii.write(tab, format='latex')"
   ]
  },
  {
   "cell_type": "markdown",
   "id": "9063d40f",
   "metadata": {},
   "source": [
    "Now you can just copy the above into your manuscript and you are good to go!"
   ]
  },
  {
   "cell_type": "markdown",
   "id": "681612d0",
   "metadata": {},
   "source": [
    "## Machine Readable Tables (MRTs)"
   ]
  },
  {
   "cell_type": "markdown",
   "id": "6718fc4c",
   "metadata": {},
   "source": [
    "Sometimes you may have very large tables that you cant actually display in your paper though. In these cases, you will probably eventually need to provide the table to the journal as a MRT. This will allow people to download the full table as well as allow places like Vizier to upload your table to be archived. Also, compared to just a plain text file, this MRT will usually have header info to describe the source of the data, the data types and the units used so the data can be correctly archived/used.\n",
    "\n",
    "Again, when the table is an Astropy table, there is a handy python package that can be used to output it as a MRT. This process is shown below:"
   ]
  },
  {
   "cell_type": "code",
   "execution_count": 3,
   "id": "50fb7a21",
   "metadata": {},
   "outputs": [],
   "source": [
    "import cdspyreadme\n",
    "\n",
    "# initialize the table maker object\n",
    "tablemaker = cdspyreadme.CDSTablesMaker()\n",
    "\n",
    "# give info on the paper the data is from\n",
    "tablemaker.title = \"Paper Title\"\n",
    "tablemaker.author = 'I. Medan & S. Lepine'\n",
    "tablemaker.date = 2021\n",
    "tablemaker.abstract = \"This is my abstract...\"\n",
    "\n",
    "# initialize the table\n",
    "table = tablemaker.addTable(tab,\n",
    "                            name=\"2MASS_MRT.txt\")\n",
    "\n",
    "# describe the data ine each column\n",
    "column1 = table.get_column(\"GAIA_ID\")\n",
    "column1.name=\"gaia_source_id\"\n",
    "column1.description=\"Gaia DR2 Source ID\"\n",
    "\n",
    "# You can also specify the data format and units\n",
    "column2 = table.get_column(\"G\")\n",
    "column2.name=\"Gmag\"\n",
    "column2.set_format(\"F9.6\")\n",
    "column2.description=\"G-band photometry from Gaia DR2\"\n",
    "column2.unit='mag'\n",
    "\n",
    "column3 = table.get_column(\"RA_GAIA\")\n",
    "column3.name=\"RA_Gaia\"\n",
    "column3.set_format(\"F15.11\")\n",
    "column3.description=\"Right ascension of the source at Gaia DR2 epoch J=2015.5\"\n",
    "column3.unit='deg'\n",
    "\n",
    "column4 = table.get_column(\"DE_GAIA\")\n",
    "column4.name=\"DEC_Gaia\"\n",
    "column4.set_format(\"F15.11\")\n",
    "column4.description=\"Declination of the source at Gaia DR2 epoch J=2015.5\"\n",
    "column4.unit='deg'\n",
    "\n",
    "column5 = table.get_column(\"2MASS_ID\")\n",
    "column5.name=\"2MASS_ID\"\n",
    "column5.set_format(\"A16\")\n",
    "column5.description=\"2MASS Identifier\"\n",
    "\n",
    "column6 = table.get_column(\"J_2MASS\")\n",
    "column6.name=\"Jmag\"\n",
    "column6.set_format(\"F6.3\")\n",
    "column6.description=\"J-band photometry from 2MASS\"\n",
    "column6.unit='mag'\n",
    "\n",
    "column7 = table.get_column(\"Jerr_2MASS\")\n",
    "column7.name=\"Jmag_err\"\n",
    "column7.set_format(\"F6.3\")\n",
    "column7.description=\"Error on J-band photometry from 2MASS\"\n",
    "column7.unit='mag'\n",
    "\n",
    "column8 = table.get_column(\"H_2MASS\")\n",
    "column8.name=\"Hmag\"\n",
    "column8.set_format(\"F6.3\")\n",
    "column8.description=\"H-band photometry from 2MASS\"\n",
    "column8.unit='mag'\n",
    "\n",
    "column9 = table.get_column(\"Herr_2MASS\")\n",
    "column9.name=\"Hmag_err\"\n",
    "column9.set_format(\"F6.3\")\n",
    "column9.description=\"Error on H-band photometry from 2MASS\"\n",
    "column9.unit='mag'\n",
    "\n",
    "column10 = table.get_column(\"K_2MASS\")\n",
    "column10.name=\"Kmag\"\n",
    "column10.set_format(\"F6.3\")\n",
    "column10.description=\"K-band photometry from 2MASS\"\n",
    "column10.unit='mag'\n",
    "\n",
    "column11 = table.get_column(\"Kerr_2MASS\")\n",
    "column11.name=\"Kmag_err\"\n",
    "column11.set_format(\"F6.3\")\n",
    "column11.description=\"Error on K-band photometry from 2MASS\"\n",
    "column11.unit='mag'\n",
    "\n",
    "column12 = table.get_column(\"RA_2MASS\")\n",
    "column12.name=\"RA_2MASS\"\n",
    "column12.set_format(\"F10.6\")\n",
    "column12.description=\"Right ascension of the source in 2MASS\"\n",
    "column12.unit='deg'\n",
    "\n",
    "column13 = table.get_column(\"DE_2MASS\")\n",
    "column13.name=\"DEC_2MASS\"\n",
    "column13.set_format(\"F10.6\")\n",
    "column13.description=\"Declination of the source in 2MASS\"\n",
    "column13.unit='deg'\n",
    "\n",
    "column14 = table.get_column(\"bayes_2MASS\")\n",
    "column14.name=\"bayesian_prob\"\n",
    "column14.set_format(\"F9.7\")\n",
    "column14.description=\"Bayesian probability of match between objects\"\n",
    "\n",
    "column15 = table.get_column(\"angsep_2MASS\")\n",
    "column15.name=\"ang_sep\"\n",
    "column15.set_format(\"F10.7\")\n",
    "column15.description=\"Angular seperation between objects\"\n",
    "column15.unit='arcseconds'\n",
    "\n",
    "# write table as a MRT\n",
    "tablemaker.toMRT()"
   ]
  },
  {
   "cell_type": "code",
   "execution_count": null,
   "id": "7ffea02a",
   "metadata": {},
   "outputs": [],
   "source": []
  }
 ],
 "metadata": {
  "kernelspec": {
   "display_name": "Python 3",
   "language": "python",
   "name": "python3"
  },
  "language_info": {
   "codemirror_mode": {
    "name": "ipython",
    "version": 3
   },
   "file_extension": ".py",
   "mimetype": "text/x-python",
   "name": "python",
   "nbconvert_exporter": "python",
   "pygments_lexer": "ipython3",
   "version": "3.6.10"
  }
 },
 "nbformat": 4,
 "nbformat_minor": 5
}
